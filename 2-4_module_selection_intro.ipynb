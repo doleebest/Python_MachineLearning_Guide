{
 "cells": [
  {
   "cell_type": "markdown",
   "metadata": {},
   "source": [
    "## 사이킷런의 model_selection 모듈\n",
    "1) 학습 데이터와 테스트 데이터 세트를 분리 </br>\n",
    "2) 교차 검증 분할 및 평가\n",
    "3) Estimator의 하이퍼 파라미터를 튜닝하기 위한 다양한 함수와 클래스 제공"
   ]
  },
  {
   "cell_type": "code",
   "execution_count": null,
   "metadata": {
    "vscode": {
     "languageId": "plaintext"
    }
   },
   "outputs": [],
   "source": []
  }
 ],
 "metadata": {
  "language_info": {
   "name": "python"
  }
 },
 "nbformat": 4,
 "nbformat_minor": 2
}

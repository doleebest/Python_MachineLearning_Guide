{
 "cells": [
  {
   "cell_type": "markdown",
   "metadata": {},
   "source": [
    "# 성능 평가 지표(evaluation metric) : 분류/회귀 </br>\n",
    "회귀 : 에측 오차를 가지고 정규화 수준을 재가공 </br>\n",
    "분류 : 이진 분류의 성능 평가 지표</br>\n",
    "분류의 성능 평가 지표 : accuracy, confusion matrix, precision, recall, f1 score, ROC AUC"
   ]
  },
  {
   "cell_type": "code",
   "execution_count": null,
   "metadata": {},
   "outputs": [],
   "source": []
  }
 ],
 "metadata": {
  "language_info": {
   "name": "python"
  }
 },
 "nbformat": 4,
 "nbformat_minor": 2
}
